{
  "nbformat": 4,
  "nbformat_minor": 0,
  "metadata": {
    "colab": {
      "provenance": [],
      "gpuType": "T4",
      "name": "aave-wallet-credibility.ipynb",
      "authorship_tag": "ABX9TyPqfMqlHuuMNKHFrXUNCflt",
      "include_colab_link": true
    },
    "kernelspec": {
      "name": "python3",
      "display_name": "Python 3"
    },
    "language_info": {
      "name": "python"
    },
    "accelerator": "GPU"
  },
  "cells": [
    {
      "cell_type": "markdown",
      "metadata": {
        "id": "view-in-github",
        "colab_type": "text"
      },
      "source": [
        "<a href=\"https://colab.research.google.com/github/kraven681/aave-wallet-credibility/blob/main/aave_wallet_credibility.ipynb\" target=\"_parent\"><img src=\"https://colab.research.google.com/assets/colab-badge.svg\" alt=\"Open In Colab\"/></a>"
      ]
    },
    {
      "cell_type": "code",
      "execution_count": null,
      "metadata": {
        "id": "56OkKJfObQQ8"
      },
      "outputs": [],
      "source": [
        "import pandas as pd\n",
        "\n",
        "# Example: Load from JSON or CSV\n",
        "df = pd.read_json(\"/content/user-wallet-transactions.json\")"
      ]
    },
    {
      "cell_type": "code",
      "source": [
        "print(df.head())"
      ],
      "metadata": {
        "id": "v2X1ahxKbx0D",
        "colab": {
          "base_uri": "https://localhost:8080/"
        },
        "outputId": "d888baa5-0ba5-45f5-93ac-04f35ba8e6b9"
      },
      "execution_count": null,
      "outputs": [
        {
          "output_type": "stream",
          "name": "stdout",
          "text": [
            "                                    _id  \\\n",
            "0  {'$oid': '681d38fed63812d4655f571a'}   \n",
            "1  {'$oid': '681aa70dd6df53021cc6f3c0'}   \n",
            "2  {'$oid': '681d04c2d63812d4654c733e'}   \n",
            "3  {'$oid': '681d133bd63812d46551b6ef'}   \n",
            "4  {'$oid': '681899e4ba49fc91cf2f4454'}   \n",
            "\n",
            "                                   userWallet  network protocol  \\\n",
            "0  0x00000000001accfa9cef68cf5371a23025b6d4b6  polygon  aave_v2   \n",
            "1  0x000000000051d07a4fb3bd10121a343d85818da6  polygon  aave_v2   \n",
            "2  0x000000000096026fb41fc39f9875d164bd82e2dc  polygon  aave_v2   \n",
            "3  0x000000000096026fb41fc39f9875d164bd82e2dc  polygon  aave_v2   \n",
            "4  0x0000000000e189dd664b9ab08a33c4839953852c  polygon  aave_v2   \n",
            "\n",
            "                                              txHash  \\\n",
            "0  0x695c69acf608fbf5d38e48ca5535e118cc213a89e3d6...   \n",
            "1  0xe6fc162c86b2928b0ba9b82bda672763665152b9de9d...   \n",
            "2  0xe2d7eb815c89331a734ed6f204a06c385a1b39040baa...   \n",
            "3  0x0d63a2eacd82b82f868db825ea7385e6bd8d046ee729...   \n",
            "4  0x590eabb812c5006a6f4766f44e6e9d3ad0b5b563de69...   \n",
            "\n",
            "                                               logId           timestamp  \\\n",
            "0  0x695c69acf608fbf5d38e48ca5535e118cc213a89e3d6... 2021-08-17 05:29:26   \n",
            "1  0xe6fc162c86b2928b0ba9b82bda672763665152b9de9d... 2021-05-20 15:36:53   \n",
            "2  0xe2d7eb815c89331a734ed6f204a06c385a1b39040baa... 2021-07-24 09:28:33   \n",
            "3  0x0d63a2eacd82b82f868db825ea7385e6bd8d046ee729... 2021-07-31 23:15:18   \n",
            "4  0x590eabb812c5006a6f4766f44e6e9d3ad0b5b563de69... 2021-04-19 15:25:07   \n",
            "\n",
            "   blockNumber            action  \\\n",
            "0   1629178166           deposit   \n",
            "1   1621525013           deposit   \n",
            "2   1627118913           deposit   \n",
            "3   1627773318           deposit   \n",
            "4   1618845907  redeemunderlying   \n",
            "\n",
            "                                          actionData  __v  \\\n",
            "0  {'type': 'Deposit', 'amount': '2000000000', 'a...    0   \n",
            "1  {'type': 'Deposit', 'amount': '145000000000000...    0   \n",
            "2  {'type': 'Deposit', 'amount': '100000000000000...    0   \n",
            "3  {'type': 'Deposit', 'amount': '400000000000000...    0   \n",
            "4  {'type': 'RedeemUnderlying', 'amount': '501548...    0   \n",
            "\n",
            "                               createdAt  \\\n",
            "0  {'$date': '2025-05-08T23:06:39.465Z'}   \n",
            "1  {'$date': '2025-05-07T00:19:26.159Z'}   \n",
            "2  {'$date': '2025-05-08T19:23:47.877Z'}   \n",
            "3  {'$date': '2025-05-08T20:25:33.141Z'}   \n",
            "4  {'$date': '2025-05-05T10:58:45.934Z'}   \n",
            "\n",
            "                               updatedAt  \n",
            "0  {'$date': '2025-05-08T23:06:39.465Z'}  \n",
            "1  {'$date': '2025-05-07T00:19:26.159Z'}  \n",
            "2  {'$date': '2025-05-08T19:23:47.877Z'}  \n",
            "3  {'$date': '2025-05-08T20:25:33.141Z'}  \n",
            "4  {'$date': '2025-05-05T10:58:45.934Z'}  \n"
          ]
        }
      ]
    },
    {
      "cell_type": "code",
      "source": [
        "print(df.info())"
      ],
      "metadata": {
        "id": "xcNwJy5ycPAX",
        "colab": {
          "base_uri": "https://localhost:8080/"
        },
        "outputId": "d80812c5-a349-4ca6-feab-1a3cf97c8735"
      },
      "execution_count": null,
      "outputs": [
        {
          "output_type": "stream",
          "name": "stdout",
          "text": [
            "<class 'pandas.core.frame.DataFrame'>\n",
            "RangeIndex: 100000 entries, 0 to 99999\n",
            "Data columns (total 13 columns):\n",
            " #   Column       Non-Null Count   Dtype         \n",
            "---  ------       --------------   -----         \n",
            " 0   _id          100000 non-null  object        \n",
            " 1   userWallet   100000 non-null  object        \n",
            " 2   network      100000 non-null  object        \n",
            " 3   protocol     100000 non-null  object        \n",
            " 4   txHash       100000 non-null  object        \n",
            " 5   logId        100000 non-null  object        \n",
            " 6   timestamp    100000 non-null  datetime64[ns]\n",
            " 7   blockNumber  100000 non-null  int64         \n",
            " 8   action       100000 non-null  object        \n",
            " 9   actionData   100000 non-null  object        \n",
            " 10  __v          100000 non-null  int64         \n",
            " 11  createdAt    100000 non-null  object        \n",
            " 12  updatedAt    100000 non-null  object        \n",
            "dtypes: datetime64[ns](1), int64(2), object(10)\n",
            "memory usage: 9.9+ MB\n",
            "None\n"
          ]
        }
      ]
    },
    {
      "cell_type": "code",
      "source": [
        "print(df.describe())"
      ],
      "metadata": {
        "id": "xSXMY3bmcQk9",
        "colab": {
          "base_uri": "https://localhost:8080/"
        },
        "outputId": "db888046-4f7b-421c-de06-9c255155385d"
      },
      "execution_count": null,
      "outputs": [
        {
          "output_type": "stream",
          "name": "stdout",
          "text": [
            "                           timestamp   blockNumber       __v\n",
            "count                         100000  1.000000e+05  100000.0\n",
            "mean   2021-06-17 00:55:30.034620160  1.623891e+09       0.0\n",
            "min              2021-03-31 17:00:04  1.617210e+09       0.0\n",
            "25%       2021-05-21 08:21:36.500000  1.621585e+09       0.0\n",
            "50%              2021-06-11 12:43:53  1.623415e+09       0.0\n",
            "75%              2021-07-12 02:29:14  1.626057e+09       0.0\n",
            "max              2021-09-02 17:54:35  1.630605e+09       0.0\n",
            "std                              NaN  3.016214e+06       0.0\n"
          ]
        }
      ]
    },
    {
      "cell_type": "code",
      "source": [
        "df = df.dropna()"
      ],
      "metadata": {
        "id": "Od8zNkeqckXB"
      },
      "execution_count": null,
      "outputs": []
    },
    {
      "cell_type": "code",
      "source": [
        "df['timestamp'] = pd.to_datetime(df['timestamp'])\n",
        "df['amount'] = df['actionData'].apply(lambda x: float(x.get('amount', 0)))\n",
        "df['action'] = df['action'].str.lower()\n"
      ],
      "metadata": {
        "id": "7ISx6Ifdcx7w"
      },
      "execution_count": null,
      "outputs": []
    },
    {
      "cell_type": "code",
      "source": [
        "grouped = df.groupby('userWallet')\n",
        "\n",
        "features = grouped.agg(\n",
        "    num_deposits=('action', lambda x: (x == 'deposit').sum()),\n",
        "    total_deposit_amount=('amount', lambda x: df.loc[x.index][df.loc[x.index]['action'] == 'deposit']['amount'].sum()),\n",
        "\n",
        "    num_borrows=('action', lambda x: (x == 'borrow').sum()),\n",
        "    total_borrow_amount=('amount', lambda x: df.loc[x.index][df.loc[x.index]['action'] == 'borrow']['amount'].sum()),\n",
        "\n",
        "    num_repayments=('action', lambda x: (x == 'repay').sum()),\n",
        "    total_repaid=('amount', lambda x: df.loc[x.index][df.loc[x.index]['action'] == 'repay']['amount'].sum()),\n",
        "\n",
        "    num_liquidations=('action', lambda x: (x == 'liquidationcall').sum()),\n",
        "    num_redeems=('action', lambda x: (x == 'redeemunderlying').sum()),\n",
        "    total_redeemed=('amount', lambda x: df.loc[x.index][df.loc[x.index]['action'] == 'redeemunderlying']['amount'].sum()),\n",
        "\n",
        "    num_actions=('action', 'count'),\n",
        "    active_days=('timestamp', lambda x: x.dt.date.nunique()),\n",
        "    first_tx=('timestamp', 'min'),\n",
        "    last_tx=('timestamp', 'max')\n",
        ").reset_index()\n",
        "\n",
        "# Add derived features\n",
        "features['borrow_repay_ratio'] = features.apply(\n",
        "    lambda row: row['total_repaid'] / row['total_borrow_amount']\n",
        "    if row['total_borrow_amount'] > 0 else 1.0, axis=1\n",
        ")\n",
        "\n",
        "features['redeem_ratio'] = features.apply(\n",
        "    lambda row: row['total_redeemed'] / row['total_deposit_amount']\n",
        "    if row['total_deposit_amount'] > 0 else 0.0, axis=1\n",
        ")\n",
        "\n",
        "features['activity_span_days'] = (features['last_tx'] - features['first_tx']).dt.days + 1\n",
        "features.drop(columns=['first_tx', 'last_tx'], inplace=True)\n",
        "\n"
      ],
      "metadata": {
        "id": "VFimCfNCgzu4"
      },
      "execution_count": null,
      "outputs": []
    },
    {
      "cell_type": "code",
      "source": [
        "from sklearn.preprocessing import StandardScaler\n",
        "\n",
        "X = features.drop(columns=['userWallet'])  # input features\n",
        "scaler = StandardScaler()\n",
        "X_scaled = scaler.fit_transform(X)\n"
      ],
      "metadata": {
        "id": "z7QwbtP-g9bo"
      },
      "execution_count": null,
      "outputs": []
    },
    {
      "cell_type": "code",
      "source": [
        "from sklearn.ensemble import RandomForestRegressor\n",
        "\n",
        "model = RandomForestRegressor(n_estimators=100, random_state=42)\n"
      ],
      "metadata": {
        "id": "tcQostMES2P5"
      },
      "execution_count": null,
      "outputs": []
    },
    {
      "cell_type": "code",
      "source": [
        "from sklearn.model_selection import train_test_split\n",
        "\n",
        "X = df.drop(columns=['credit_score'])  # Features\n",
        "y = df['credit_score']                 # Target\n",
        "\n",
        "X_train, X_test, y_train, y_test = train_test_split(X, y, test_size=0.2, random_state=42)\n"
      ],
      "metadata": {
        "id": "anz-os8fNXva"
      },
      "execution_count": null,
      "outputs": []
    },
    {
      "cell_type": "code",
      "source": [
        "# Option 1: Select only numeric columns automatically\n",
        "X_train_numeric = X_train.select_dtypes(include='number')\n",
        "X_test_numeric = X_test.select_dtypes(include='number')\n",
        "\n",
        "# Then scale\n",
        "from sklearn.preprocessing import StandardScaler\n",
        "\n",
        "scaler = StandardScaler()\n",
        "X_train_scaled = scaler.fit_transform(X_train_numeric)\n",
        "X_test_scaled = scaler.transform(X_test_numeric)\n"
      ],
      "metadata": {
        "id": "HiLHNhIKVv0M"
      },
      "execution_count": null,
      "outputs": []
    },
    {
      "cell_type": "code",
      "source": [
        "model.fit(X_train_scaled, y_train)\n"
      ],
      "metadata": {
        "colab": {
          "base_uri": "https://localhost:8080/",
          "height": 80
        },
        "id": "VfA6WXvkV7WF",
        "outputId": "cb247269-cc2f-4a97-8e05-e8faf26b9341"
      },
      "execution_count": null,
      "outputs": [
        {
          "output_type": "execute_result",
          "data": {
            "text/plain": [
              "RandomForestRegressor(random_state=42)"
            ],
            "text/html": [
              "<style>#sk-container-id-1 {\n",
              "  /* Definition of color scheme common for light and dark mode */\n",
              "  --sklearn-color-text: #000;\n",
              "  --sklearn-color-text-muted: #666;\n",
              "  --sklearn-color-line: gray;\n",
              "  /* Definition of color scheme for unfitted estimators */\n",
              "  --sklearn-color-unfitted-level-0: #fff5e6;\n",
              "  --sklearn-color-unfitted-level-1: #f6e4d2;\n",
              "  --sklearn-color-unfitted-level-2: #ffe0b3;\n",
              "  --sklearn-color-unfitted-level-3: chocolate;\n",
              "  /* Definition of color scheme for fitted estimators */\n",
              "  --sklearn-color-fitted-level-0: #f0f8ff;\n",
              "  --sklearn-color-fitted-level-1: #d4ebff;\n",
              "  --sklearn-color-fitted-level-2: #b3dbfd;\n",
              "  --sklearn-color-fitted-level-3: cornflowerblue;\n",
              "\n",
              "  /* Specific color for light theme */\n",
              "  --sklearn-color-text-on-default-background: var(--sg-text-color, var(--theme-code-foreground, var(--jp-content-font-color1, black)));\n",
              "  --sklearn-color-background: var(--sg-background-color, var(--theme-background, var(--jp-layout-color0, white)));\n",
              "  --sklearn-color-border-box: var(--sg-text-color, var(--theme-code-foreground, var(--jp-content-font-color1, black)));\n",
              "  --sklearn-color-icon: #696969;\n",
              "\n",
              "  @media (prefers-color-scheme: dark) {\n",
              "    /* Redefinition of color scheme for dark theme */\n",
              "    --sklearn-color-text-on-default-background: var(--sg-text-color, var(--theme-code-foreground, var(--jp-content-font-color1, white)));\n",
              "    --sklearn-color-background: var(--sg-background-color, var(--theme-background, var(--jp-layout-color0, #111)));\n",
              "    --sklearn-color-border-box: var(--sg-text-color, var(--theme-code-foreground, var(--jp-content-font-color1, white)));\n",
              "    --sklearn-color-icon: #878787;\n",
              "  }\n",
              "}\n",
              "\n",
              "#sk-container-id-1 {\n",
              "  color: var(--sklearn-color-text);\n",
              "}\n",
              "\n",
              "#sk-container-id-1 pre {\n",
              "  padding: 0;\n",
              "}\n",
              "\n",
              "#sk-container-id-1 input.sk-hidden--visually {\n",
              "  border: 0;\n",
              "  clip: rect(1px 1px 1px 1px);\n",
              "  clip: rect(1px, 1px, 1px, 1px);\n",
              "  height: 1px;\n",
              "  margin: -1px;\n",
              "  overflow: hidden;\n",
              "  padding: 0;\n",
              "  position: absolute;\n",
              "  width: 1px;\n",
              "}\n",
              "\n",
              "#sk-container-id-1 div.sk-dashed-wrapped {\n",
              "  border: 1px dashed var(--sklearn-color-line);\n",
              "  margin: 0 0.4em 0.5em 0.4em;\n",
              "  box-sizing: border-box;\n",
              "  padding-bottom: 0.4em;\n",
              "  background-color: var(--sklearn-color-background);\n",
              "}\n",
              "\n",
              "#sk-container-id-1 div.sk-container {\n",
              "  /* jupyter's `normalize.less` sets `[hidden] { display: none; }`\n",
              "     but bootstrap.min.css set `[hidden] { display: none !important; }`\n",
              "     so we also need the `!important` here to be able to override the\n",
              "     default hidden behavior on the sphinx rendered scikit-learn.org.\n",
              "     See: https://github.com/scikit-learn/scikit-learn/issues/21755 */\n",
              "  display: inline-block !important;\n",
              "  position: relative;\n",
              "}\n",
              "\n",
              "#sk-container-id-1 div.sk-text-repr-fallback {\n",
              "  display: none;\n",
              "}\n",
              "\n",
              "div.sk-parallel-item,\n",
              "div.sk-serial,\n",
              "div.sk-item {\n",
              "  /* draw centered vertical line to link estimators */\n",
              "  background-image: linear-gradient(var(--sklearn-color-text-on-default-background), var(--sklearn-color-text-on-default-background));\n",
              "  background-size: 2px 100%;\n",
              "  background-repeat: no-repeat;\n",
              "  background-position: center center;\n",
              "}\n",
              "\n",
              "/* Parallel-specific style estimator block */\n",
              "\n",
              "#sk-container-id-1 div.sk-parallel-item::after {\n",
              "  content: \"\";\n",
              "  width: 100%;\n",
              "  border-bottom: 2px solid var(--sklearn-color-text-on-default-background);\n",
              "  flex-grow: 1;\n",
              "}\n",
              "\n",
              "#sk-container-id-1 div.sk-parallel {\n",
              "  display: flex;\n",
              "  align-items: stretch;\n",
              "  justify-content: center;\n",
              "  background-color: var(--sklearn-color-background);\n",
              "  position: relative;\n",
              "}\n",
              "\n",
              "#sk-container-id-1 div.sk-parallel-item {\n",
              "  display: flex;\n",
              "  flex-direction: column;\n",
              "}\n",
              "\n",
              "#sk-container-id-1 div.sk-parallel-item:first-child::after {\n",
              "  align-self: flex-end;\n",
              "  width: 50%;\n",
              "}\n",
              "\n",
              "#sk-container-id-1 div.sk-parallel-item:last-child::after {\n",
              "  align-self: flex-start;\n",
              "  width: 50%;\n",
              "}\n",
              "\n",
              "#sk-container-id-1 div.sk-parallel-item:only-child::after {\n",
              "  width: 0;\n",
              "}\n",
              "\n",
              "/* Serial-specific style estimator block */\n",
              "\n",
              "#sk-container-id-1 div.sk-serial {\n",
              "  display: flex;\n",
              "  flex-direction: column;\n",
              "  align-items: center;\n",
              "  background-color: var(--sklearn-color-background);\n",
              "  padding-right: 1em;\n",
              "  padding-left: 1em;\n",
              "}\n",
              "\n",
              "\n",
              "/* Toggleable style: style used for estimator/Pipeline/ColumnTransformer box that is\n",
              "clickable and can be expanded/collapsed.\n",
              "- Pipeline and ColumnTransformer use this feature and define the default style\n",
              "- Estimators will overwrite some part of the style using the `sk-estimator` class\n",
              "*/\n",
              "\n",
              "/* Pipeline and ColumnTransformer style (default) */\n",
              "\n",
              "#sk-container-id-1 div.sk-toggleable {\n",
              "  /* Default theme specific background. It is overwritten whether we have a\n",
              "  specific estimator or a Pipeline/ColumnTransformer */\n",
              "  background-color: var(--sklearn-color-background);\n",
              "}\n",
              "\n",
              "/* Toggleable label */\n",
              "#sk-container-id-1 label.sk-toggleable__label {\n",
              "  cursor: pointer;\n",
              "  display: flex;\n",
              "  width: 100%;\n",
              "  margin-bottom: 0;\n",
              "  padding: 0.5em;\n",
              "  box-sizing: border-box;\n",
              "  text-align: center;\n",
              "  align-items: start;\n",
              "  justify-content: space-between;\n",
              "  gap: 0.5em;\n",
              "}\n",
              "\n",
              "#sk-container-id-1 label.sk-toggleable__label .caption {\n",
              "  font-size: 0.6rem;\n",
              "  font-weight: lighter;\n",
              "  color: var(--sklearn-color-text-muted);\n",
              "}\n",
              "\n",
              "#sk-container-id-1 label.sk-toggleable__label-arrow:before {\n",
              "  /* Arrow on the left of the label */\n",
              "  content: \"▸\";\n",
              "  float: left;\n",
              "  margin-right: 0.25em;\n",
              "  color: var(--sklearn-color-icon);\n",
              "}\n",
              "\n",
              "#sk-container-id-1 label.sk-toggleable__label-arrow:hover:before {\n",
              "  color: var(--sklearn-color-text);\n",
              "}\n",
              "\n",
              "/* Toggleable content - dropdown */\n",
              "\n",
              "#sk-container-id-1 div.sk-toggleable__content {\n",
              "  max-height: 0;\n",
              "  max-width: 0;\n",
              "  overflow: hidden;\n",
              "  text-align: left;\n",
              "  /* unfitted */\n",
              "  background-color: var(--sklearn-color-unfitted-level-0);\n",
              "}\n",
              "\n",
              "#sk-container-id-1 div.sk-toggleable__content.fitted {\n",
              "  /* fitted */\n",
              "  background-color: var(--sklearn-color-fitted-level-0);\n",
              "}\n",
              "\n",
              "#sk-container-id-1 div.sk-toggleable__content pre {\n",
              "  margin: 0.2em;\n",
              "  border-radius: 0.25em;\n",
              "  color: var(--sklearn-color-text);\n",
              "  /* unfitted */\n",
              "  background-color: var(--sklearn-color-unfitted-level-0);\n",
              "}\n",
              "\n",
              "#sk-container-id-1 div.sk-toggleable__content.fitted pre {\n",
              "  /* unfitted */\n",
              "  background-color: var(--sklearn-color-fitted-level-0);\n",
              "}\n",
              "\n",
              "#sk-container-id-1 input.sk-toggleable__control:checked~div.sk-toggleable__content {\n",
              "  /* Expand drop-down */\n",
              "  max-height: 200px;\n",
              "  max-width: 100%;\n",
              "  overflow: auto;\n",
              "}\n",
              "\n",
              "#sk-container-id-1 input.sk-toggleable__control:checked~label.sk-toggleable__label-arrow:before {\n",
              "  content: \"▾\";\n",
              "}\n",
              "\n",
              "/* Pipeline/ColumnTransformer-specific style */\n",
              "\n",
              "#sk-container-id-1 div.sk-label input.sk-toggleable__control:checked~label.sk-toggleable__label {\n",
              "  color: var(--sklearn-color-text);\n",
              "  background-color: var(--sklearn-color-unfitted-level-2);\n",
              "}\n",
              "\n",
              "#sk-container-id-1 div.sk-label.fitted input.sk-toggleable__control:checked~label.sk-toggleable__label {\n",
              "  background-color: var(--sklearn-color-fitted-level-2);\n",
              "}\n",
              "\n",
              "/* Estimator-specific style */\n",
              "\n",
              "/* Colorize estimator box */\n",
              "#sk-container-id-1 div.sk-estimator input.sk-toggleable__control:checked~label.sk-toggleable__label {\n",
              "  /* unfitted */\n",
              "  background-color: var(--sklearn-color-unfitted-level-2);\n",
              "}\n",
              "\n",
              "#sk-container-id-1 div.sk-estimator.fitted input.sk-toggleable__control:checked~label.sk-toggleable__label {\n",
              "  /* fitted */\n",
              "  background-color: var(--sklearn-color-fitted-level-2);\n",
              "}\n",
              "\n",
              "#sk-container-id-1 div.sk-label label.sk-toggleable__label,\n",
              "#sk-container-id-1 div.sk-label label {\n",
              "  /* The background is the default theme color */\n",
              "  color: var(--sklearn-color-text-on-default-background);\n",
              "}\n",
              "\n",
              "/* On hover, darken the color of the background */\n",
              "#sk-container-id-1 div.sk-label:hover label.sk-toggleable__label {\n",
              "  color: var(--sklearn-color-text);\n",
              "  background-color: var(--sklearn-color-unfitted-level-2);\n",
              "}\n",
              "\n",
              "/* Label box, darken color on hover, fitted */\n",
              "#sk-container-id-1 div.sk-label.fitted:hover label.sk-toggleable__label.fitted {\n",
              "  color: var(--sklearn-color-text);\n",
              "  background-color: var(--sklearn-color-fitted-level-2);\n",
              "}\n",
              "\n",
              "/* Estimator label */\n",
              "\n",
              "#sk-container-id-1 div.sk-label label {\n",
              "  font-family: monospace;\n",
              "  font-weight: bold;\n",
              "  display: inline-block;\n",
              "  line-height: 1.2em;\n",
              "}\n",
              "\n",
              "#sk-container-id-1 div.sk-label-container {\n",
              "  text-align: center;\n",
              "}\n",
              "\n",
              "/* Estimator-specific */\n",
              "#sk-container-id-1 div.sk-estimator {\n",
              "  font-family: monospace;\n",
              "  border: 1px dotted var(--sklearn-color-border-box);\n",
              "  border-radius: 0.25em;\n",
              "  box-sizing: border-box;\n",
              "  margin-bottom: 0.5em;\n",
              "  /* unfitted */\n",
              "  background-color: var(--sklearn-color-unfitted-level-0);\n",
              "}\n",
              "\n",
              "#sk-container-id-1 div.sk-estimator.fitted {\n",
              "  /* fitted */\n",
              "  background-color: var(--sklearn-color-fitted-level-0);\n",
              "}\n",
              "\n",
              "/* on hover */\n",
              "#sk-container-id-1 div.sk-estimator:hover {\n",
              "  /* unfitted */\n",
              "  background-color: var(--sklearn-color-unfitted-level-2);\n",
              "}\n",
              "\n",
              "#sk-container-id-1 div.sk-estimator.fitted:hover {\n",
              "  /* fitted */\n",
              "  background-color: var(--sklearn-color-fitted-level-2);\n",
              "}\n",
              "\n",
              "/* Specification for estimator info (e.g. \"i\" and \"?\") */\n",
              "\n",
              "/* Common style for \"i\" and \"?\" */\n",
              "\n",
              ".sk-estimator-doc-link,\n",
              "a:link.sk-estimator-doc-link,\n",
              "a:visited.sk-estimator-doc-link {\n",
              "  float: right;\n",
              "  font-size: smaller;\n",
              "  line-height: 1em;\n",
              "  font-family: monospace;\n",
              "  background-color: var(--sklearn-color-background);\n",
              "  border-radius: 1em;\n",
              "  height: 1em;\n",
              "  width: 1em;\n",
              "  text-decoration: none !important;\n",
              "  margin-left: 0.5em;\n",
              "  text-align: center;\n",
              "  /* unfitted */\n",
              "  border: var(--sklearn-color-unfitted-level-1) 1pt solid;\n",
              "  color: var(--sklearn-color-unfitted-level-1);\n",
              "}\n",
              "\n",
              ".sk-estimator-doc-link.fitted,\n",
              "a:link.sk-estimator-doc-link.fitted,\n",
              "a:visited.sk-estimator-doc-link.fitted {\n",
              "  /* fitted */\n",
              "  border: var(--sklearn-color-fitted-level-1) 1pt solid;\n",
              "  color: var(--sklearn-color-fitted-level-1);\n",
              "}\n",
              "\n",
              "/* On hover */\n",
              "div.sk-estimator:hover .sk-estimator-doc-link:hover,\n",
              ".sk-estimator-doc-link:hover,\n",
              "div.sk-label-container:hover .sk-estimator-doc-link:hover,\n",
              ".sk-estimator-doc-link:hover {\n",
              "  /* unfitted */\n",
              "  background-color: var(--sklearn-color-unfitted-level-3);\n",
              "  color: var(--sklearn-color-background);\n",
              "  text-decoration: none;\n",
              "}\n",
              "\n",
              "div.sk-estimator.fitted:hover .sk-estimator-doc-link.fitted:hover,\n",
              ".sk-estimator-doc-link.fitted:hover,\n",
              "div.sk-label-container:hover .sk-estimator-doc-link.fitted:hover,\n",
              ".sk-estimator-doc-link.fitted:hover {\n",
              "  /* fitted */\n",
              "  background-color: var(--sklearn-color-fitted-level-3);\n",
              "  color: var(--sklearn-color-background);\n",
              "  text-decoration: none;\n",
              "}\n",
              "\n",
              "/* Span, style for the box shown on hovering the info icon */\n",
              ".sk-estimator-doc-link span {\n",
              "  display: none;\n",
              "  z-index: 9999;\n",
              "  position: relative;\n",
              "  font-weight: normal;\n",
              "  right: .2ex;\n",
              "  padding: .5ex;\n",
              "  margin: .5ex;\n",
              "  width: min-content;\n",
              "  min-width: 20ex;\n",
              "  max-width: 50ex;\n",
              "  color: var(--sklearn-color-text);\n",
              "  box-shadow: 2pt 2pt 4pt #999;\n",
              "  /* unfitted */\n",
              "  background: var(--sklearn-color-unfitted-level-0);\n",
              "  border: .5pt solid var(--sklearn-color-unfitted-level-3);\n",
              "}\n",
              "\n",
              ".sk-estimator-doc-link.fitted span {\n",
              "  /* fitted */\n",
              "  background: var(--sklearn-color-fitted-level-0);\n",
              "  border: var(--sklearn-color-fitted-level-3);\n",
              "}\n",
              "\n",
              ".sk-estimator-doc-link:hover span {\n",
              "  display: block;\n",
              "}\n",
              "\n",
              "/* \"?\"-specific style due to the `<a>` HTML tag */\n",
              "\n",
              "#sk-container-id-1 a.estimator_doc_link {\n",
              "  float: right;\n",
              "  font-size: 1rem;\n",
              "  line-height: 1em;\n",
              "  font-family: monospace;\n",
              "  background-color: var(--sklearn-color-background);\n",
              "  border-radius: 1rem;\n",
              "  height: 1rem;\n",
              "  width: 1rem;\n",
              "  text-decoration: none;\n",
              "  /* unfitted */\n",
              "  color: var(--sklearn-color-unfitted-level-1);\n",
              "  border: var(--sklearn-color-unfitted-level-1) 1pt solid;\n",
              "}\n",
              "\n",
              "#sk-container-id-1 a.estimator_doc_link.fitted {\n",
              "  /* fitted */\n",
              "  border: var(--sklearn-color-fitted-level-1) 1pt solid;\n",
              "  color: var(--sklearn-color-fitted-level-1);\n",
              "}\n",
              "\n",
              "/* On hover */\n",
              "#sk-container-id-1 a.estimator_doc_link:hover {\n",
              "  /* unfitted */\n",
              "  background-color: var(--sklearn-color-unfitted-level-3);\n",
              "  color: var(--sklearn-color-background);\n",
              "  text-decoration: none;\n",
              "}\n",
              "\n",
              "#sk-container-id-1 a.estimator_doc_link.fitted:hover {\n",
              "  /* fitted */\n",
              "  background-color: var(--sklearn-color-fitted-level-3);\n",
              "}\n",
              "</style><div id=\"sk-container-id-1\" class=\"sk-top-container\"><div class=\"sk-text-repr-fallback\"><pre>RandomForestRegressor(random_state=42)</pre><b>In a Jupyter environment, please rerun this cell to show the HTML representation or trust the notebook. <br />On GitHub, the HTML representation is unable to render, please try loading this page with nbviewer.org.</b></div><div class=\"sk-container\" hidden><div class=\"sk-item\"><div class=\"sk-estimator fitted sk-toggleable\"><input class=\"sk-toggleable__control sk-hidden--visually\" id=\"sk-estimator-id-1\" type=\"checkbox\" checked><label for=\"sk-estimator-id-1\" class=\"sk-toggleable__label fitted sk-toggleable__label-arrow\"><div><div>RandomForestRegressor</div></div><div><a class=\"sk-estimator-doc-link fitted\" rel=\"noreferrer\" target=\"_blank\" href=\"https://scikit-learn.org/1.6/modules/generated/sklearn.ensemble.RandomForestRegressor.html\">?<span>Documentation for RandomForestRegressor</span></a><span class=\"sk-estimator-doc-link fitted\">i<span>Fitted</span></span></div></label><div class=\"sk-toggleable__content fitted\"><pre>RandomForestRegressor(random_state=42)</pre></div> </div></div></div></div>"
            ]
          },
          "metadata": {},
          "execution_count": 83
        }
      ]
    },
    {
      "cell_type": "code",
      "source": [
        "y_pred = model.predict(X_test_scaled)\n"
      ],
      "metadata": {
        "id": "CEHCevI4WQr5"
      },
      "execution_count": null,
      "outputs": []
    },
    {
      "cell_type": "code",
      "source": [
        "from sklearn.metrics import mean_squared_error, r2_score\n",
        "\n",
        "mse = mean_squared_error(y_test, y_pred)\n",
        "r2 = r2_score(y_test, y_pred)\n",
        "\n",
        "print(f\"MSE: {mse:.2f}, R²: {r2:.2f}\")\n"
      ],
      "metadata": {
        "colab": {
          "base_uri": "https://localhost:8080/"
        },
        "id": "VS4-h8SJWWJm",
        "outputId": "1934cc51-0566-4207-aa38-f48040700605"
      },
      "execution_count": null,
      "outputs": [
        {
          "output_type": "stream",
          "name": "stdout",
          "text": [
            "MSE: 39927.04, R²: -0.33\n"
          ]
        }
      ]
    },
    {
      "cell_type": "code",
      "source": [
        "from sklearn.metrics import accuracy_score, confusion_matrix, classification_report\n"
      ],
      "metadata": {
        "id": "bsrhLIoIWabj"
      },
      "execution_count": null,
      "outputs": []
    },
    {
      "cell_type": "code",
      "source": [
        "import joblib\n",
        "\n",
        "joblib.dump(model, 'credit_score_model.pkl')\n",
        "joblib.dump(scaler, 'scaler.pkl')\n"
      ],
      "metadata": {
        "colab": {
          "base_uri": "https://localhost:8080/"
        },
        "id": "HHerDuogWhM1",
        "outputId": "cc250041-7360-4ad5-f2b0-63adf6d4726b"
      },
      "execution_count": null,
      "outputs": [
        {
          "output_type": "execute_result",
          "data": {
            "text/plain": [
              "['scaler.pkl']"
            ]
          },
          "metadata": {},
          "execution_count": 87
        }
      ]
    },
    {
      "cell_type": "code",
      "source": [
        "from flask import Flask, request, jsonify\n",
        "import joblib\n",
        "import numpy as np\n",
        "\n",
        "app = Flask(__name__)\n",
        "model = joblib.load('credit_score_model.pkl')\n",
        "scaler = joblib.load('scaler.pkl')\n",
        "\n",
        "@app.route('/predict', methods=['POST'])\n",
        "def predict():\n",
        "    input_data = request.json['features']\n",
        "    input_array = np.array(input_data).reshape(1, -1)\n",
        "    input_scaled = scaler.transform(input_array)\n",
        "    prediction = model.predict(input_scaled)\n",
        "    return jsonify({'credit_score': prediction[0]})\n",
        "\n",
        "if __name__ == '__main__':\n",
        "    app.run(debug=True)\n"
      ],
      "metadata": {
        "colab": {
          "base_uri": "https://localhost:8080/"
        },
        "id": "QQxCBurYWrBN",
        "outputId": "4a7c3326-aac5-4017-9760-f365a0512eeb"
      },
      "execution_count": null,
      "outputs": [
        {
          "output_type": "stream",
          "name": "stdout",
          "text": [
            " * Serving Flask app '__main__'\n",
            " * Debug mode: on\n"
          ]
        },
        {
          "output_type": "stream",
          "name": "stderr",
          "text": [
            "INFO:werkzeug:\u001b[31m\u001b[1mWARNING: This is a development server. Do not use it in a production deployment. Use a production WSGI server instead.\u001b[0m\n",
            " * Running on http://127.0.0.1:5000\n",
            "INFO:werkzeug:\u001b[33mPress CTRL+C to quit\u001b[0m\n",
            "INFO:werkzeug: * Restarting with stat\n"
          ]
        }
      ]
    },
    {
      "cell_type": "code",
      "source": [
        "import pandas as pd\n",
        "\n",
        "def extract_features(df):\n",
        "    # Ensure timestamp is datetime\n",
        "    df['timestamp'] = pd.to_datetime(df['timestamp'])\n",
        "\n",
        "    # Normalize the action field\n",
        "    df['action'] = df['action'].str.lower()\n",
        "\n",
        "    # Extract amount safely from actionData (nested dictionary)\n",
        "    df['amount'] = df['actionData'].apply(lambda x: int(x.get('amount', '0')) if isinstance(x, dict) else 0)\n",
        "\n",
        "    # Group by wallet\n",
        "    grouped = df.groupby('userWallet')\n",
        "\n",
        "    features = grouped.agg(\n",
        "        total_deposit=('amount', lambda x: x[df.loc[x.index, 'action'] == 'deposit'].sum()),\n",
        "        total_borrow=('amount', lambda x: x[df.loc[x.index, 'action'] == 'borrow'].sum()),\n",
        "        total_repay=('amount', lambda x: x[df.loc[x.index, 'action'] == 'repay'].sum()),\n",
        "        total_withdraw=('amount', lambda x: x[df.loc[x.index, 'action'] == 'redeemunderlying'].sum()),\n",
        "        num_liquidations=('action', lambda x: (x == 'liquidationcall').sum()),\n",
        "        num_txns=('action', 'count'),\n",
        "        active_days=('timestamp', lambda x: (x.max() - x.min()).days + 1)\n",
        "    ).fillna(0)\n",
        "\n",
        "    # Add derived features\n",
        "    features['repay_ratio'] = features['total_repay'] / (features['total_borrow'] + 1)\n",
        "    features['deposit_ratio'] = features['total_deposit'] / (features['total_withdraw'] + 1)\n",
        "\n",
        "    return features.reset_index()\n"
      ],
      "metadata": {
        "id": "gtz4BjMxUwv8"
      },
      "execution_count": null,
      "outputs": []
    },
    {
      "cell_type": "code",
      "source": [
        "def score_wallets(df_features):\n",
        "    # Apply a simple rule-based scoring function\n",
        "    scores = (\n",
        "        df_features['total_deposit'] * 0.001 +\n",
        "        df_features['repay_ratio'] * 300 -\n",
        "        df_features['num_liquidations'] * 100\n",
        "    ).clip(0, 1000)\n",
        "\n",
        "    df_features['credit_score'] = scores\n",
        "    return df_features\n"
      ],
      "metadata": {
        "id": "zmXZpqV3U3E1"
      },
      "execution_count": null,
      "outputs": []
    },
    {
      "cell_type": "code",
      "source": [
        "raw_df = pd.read_json('/content/user-wallet-transactions.json')  # or from POST /score\n",
        "features_df = extract_features(raw_df)\n",
        "scored_df = score_wallets(features_df)\n",
        "\n",
        "print(scored_df[['userWallet', 'credit_score']].head())\n"
      ],
      "metadata": {
        "colab": {
          "base_uri": "https://localhost:8080/"
        },
        "id": "dH8rkwkbU-st",
        "outputId": "fb33fbf3-b500-45e9-ed5f-8093789afba7"
      },
      "execution_count": null,
      "outputs": [
        {
          "output_type": "stream",
          "name": "stdout",
          "text": [
            "                                   userWallet credit_score\n",
            "0  0x00000000001accfa9cef68cf5371a23025b6d4b6         1000\n",
            "1  0x000000000051d07a4fb3bd10121a343d85818da6         1000\n",
            "2  0x000000000096026fb41fc39f9875d164bd82e2dc         1000\n",
            "3  0x0000000000e189dd664b9ab08a33c4839953852c          0.0\n",
            "4  0x0000000002032370b971dabd36d72f3e5a7bf1ee         1000\n"
          ]
        }
      ]
    },
    {
      "cell_type": "code",
      "source": [
        "import numpy as np\n",
        "\n",
        "df['credit_score'] = np.random.randint(300, 900, size=len(df))  # Range 300–900\n"
      ],
      "metadata": {
        "id": "7WsCvB6NT4kR"
      },
      "execution_count": null,
      "outputs": []
    },
    {
      "cell_type": "code",
      "source": [
        "X = df.drop(columns=['credit_score'])\n",
        "y = df['credit_score']\n"
      ],
      "metadata": {
        "id": "kEXQa-Q0T-bP"
      },
      "execution_count": null,
      "outputs": []
    },
    {
      "cell_type": "code",
      "source": [
        "# Example: Label wallets that were ever liquidated as 'risky'\n",
        "features['target'] = (features['num_liquidations'] > 0).astype(int)\n"
      ],
      "metadata": {
        "id": "b-wpM2MXjgzK"
      },
      "execution_count": null,
      "outputs": []
    },
    {
      "cell_type": "code",
      "source": [
        "features.to_csv(\"wallet_features.csv\", index=False)\n"
      ],
      "metadata": {
        "id": "Uz-F69HRjilc"
      },
      "execution_count": null,
      "outputs": []
    },
    {
      "cell_type": "code",
      "source": [
        "# Add this at the top of app.py\n",
        "def extract_features(df):\n",
        "    df['timestamp'] = pd.to_datetime(df['timestamp'])\n",
        "    df['amount'] = df['actionData'].apply(lambda x: float(x.get('amount', 0)))\n",
        "    df['action'] = df['action'].str.lower()\n",
        "\n",
        "    grouped = df.groupby('userWallet')\n",
        "\n",
        "    features = grouped.agg(\n",
        "        num_deposits=('action', lambda x: (x == 'deposit').sum()),\n",
        "        total_deposit_amount=('amount', lambda x: df.loc[x.index][df.loc[x.index]['action'] == 'deposit']['amount'].sum()),\n",
        "        num_borrows=('action', lambda x: (x == 'borrow').sum()),\n",
        "        total_borrow_amount=('amount', lambda x: df.loc[x.index][df.loc[x.index]['action'] == 'borrow']['amount'].sum()),\n",
        "        num_repayments=('action', lambda x: (x == 'repay').sum()),\n",
        "        total_repaid=('amount', lambda x: df.loc[x.index][df.loc[x.index]['action'] == 'repay']['amount'].sum()),\n",
        "        num_liquidations=('action', lambda x: (x == 'liquidationcall').sum()),\n",
        "        num_redeems=('action', lambda x: (x == 'redeemunderlying').sum()),\n",
        "        total_redeemed=('amount', lambda x: df.loc[x.index][df.loc[x.index]['action'] == 'redeemunderlying']['amount'].sum()),\n",
        "        num_actions=('action', 'count'),\n",
        "        active_days=('timestamp', lambda x: x.dt.date.nunique()),\n",
        "        first_tx=('timestamp', 'min'),\n",
        "        last_tx=('timestamp', 'max')\n",
        "    ).reset_index()\n",
        "\n",
        "    features['borrow_repay_ratio'] = features.apply(\n",
        "        lambda row: row['total_repaid'] / row['total_borrow_amount']\n",
        "        if row['total_borrow_amount'] > 0 else 1.0, axis=1)\n",
        "\n",
        "    features['redeem_ratio'] = features.apply(\n",
        "        lambda row: row['total_redeemed'] / row['total_deposit_amount']\n",
        "        if row['total_deposit_amount'] > 0 else 0.0, axis=1)\n",
        "\n",
        "    features['activity_span_days'] = (features['last_tx'] - features['first_tx']).dt.days + 1\n",
        "    features.drop(columns=['first_tx', 'last_tx'], inplace=True)\n",
        "\n",
        "    return features\n"
      ],
      "metadata": {
        "id": "lVtrRkodmGU8"
      },
      "execution_count": null,
      "outputs": []
    },
    {
      "cell_type": "code",
      "source": [
        "# file: score_wallets.py\n",
        "\n",
        "import pandas as pd\n",
        "import joblib\n",
        "\n",
        "def score_wallets(features_df):\n",
        "    model = joblib.load('wallet_credit_model.pkl')\n",
        "    X = features_df.drop(columns=['userWallet'])\n",
        "    scores = model.predict(X)\n",
        "    features_df['credit_score'] = scores\n",
        "    return features_df[['userWallet', 'credit_score']]\n"
      ],
      "metadata": {
        "id": "LwitYjcgkB7C"
      },
      "execution_count": null,
      "outputs": []
    },
    {
      "cell_type": "code",
      "source": [
        "# file: feature_engineering.py\n",
        "\n",
        "import pandas as pd\n",
        "\n",
        "def extract_features(df):\n",
        "    # Basic feature engineering per wallet\n",
        "    df['timestamp'] = pd.to_datetime(df['timestamp'])\n",
        "\n",
        "    features = (\n",
        "        df.groupby('userWallet')\n",
        "        .agg(\n",
        "            num_transactions=('action', 'count'),\n",
        "            num_deposits=('action', lambda x: (x == 'deposit').sum()),\n",
        "            num_borrows=('action', lambda x: (x == 'borrow').sum()),\n",
        "            num_repays=('action', lambda x: (x == 'repay').sum()),\n",
        "            num_liquidations=('action', lambda x: (x == 'liquidationcall').sum()),\n",
        "            total_amount=('actionData', lambda x: sum(float(eval(a).get('amount', 0)) for a in x)),\n",
        "            first_tx=('timestamp', 'min'),\n",
        "            last_tx=('timestamp', 'max'),\n",
        "        )\n",
        "        .reset_index()\n",
        "    )\n",
        "\n",
        "    # Additional features\n",
        "    features['active_days'] = (features['last_tx'] - features['first_tx']).dt.days + 1\n",
        "    features = features.drop(columns=['first_tx', 'last_tx'])\n",
        "\n",
        "    return features\n"
      ],
      "metadata": {
        "id": "hD7_-nLYNVgV"
      },
      "execution_count": null,
      "outputs": []
    },
    {
      "cell_type": "code",
      "source": [
        "# file: train_model.py\n",
        "\n",
        "import pandas as pd\n",
        "from sklearn.ensemble import RandomForestRegressor\n",
        "from sklearn.model_selection import train_test_split\n",
        "import joblib\n",
        "\n",
        "def train_model(df):\n",
        "    X = df.drop(columns=['userWallet'])\n",
        "    y = df['credit_score'] if 'credit_score' in df else None  # Use heuristics if no labels\n",
        "\n",
        "    # Optional: Create label if needed\n",
        "    if y is None:\n",
        "        X['score_raw'] = (\n",
        "            + 2 * X['num_deposits']\n",
        "            + 3 * X['total_deposit_amount']\n",
        "            - 5 * X['num_liquidations']\n",
        "            - 2 * (1 - X['borrow_repay_ratio']) * X['total_borrow_amount']\n",
        "            + 3 * X['redeem_ratio']\n",
        "            + X['active_days']\n",
        "        )\n",
        "        from sklearn.preprocessing import MinMaxScaler\n",
        "        scaler = MinMaxScaler((0, 1000))\n",
        "        y = scaler.fit_transform(X[['score_raw']]).flatten()\n",
        "        X.drop(columns=['score_raw'], inplace=True)\n",
        "\n",
        "    X_train, X_test, y_train, y_test = train_test_split(X.drop(columns=['userWallet']), y, test_size=0.2, random_state=42)\n",
        "\n",
        "    model = RandomForestRegressor(n_estimators=100, random_state=42)\n",
        "    model.fit(X_train, y_train)\n",
        "\n",
        "    joblib.dump(model, 'wallet_credit_model.pkl')\n",
        "    print(\"✅ Model saved as 'wallet_credit_model.pkl'\")\n"
      ],
      "metadata": {
        "id": "JnosIx4cj6tV"
      },
      "execution_count": null,
      "outputs": []
    },
    {
      "cell_type": "code",
      "source": [],
      "metadata": {
        "id": "UGCguFFjMU7v"
      },
      "execution_count": null,
      "outputs": []
    }
  ]
}